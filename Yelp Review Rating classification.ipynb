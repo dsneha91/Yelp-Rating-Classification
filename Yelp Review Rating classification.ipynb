{
 "cells": [
  {
   "cell_type": "code",
   "execution_count": 1,
   "metadata": {
    "collapsed": false
   },
   "outputs": [
    {
     "data": {
      "text/plain": [
       "u'/Users/SD'"
      ]
     },
     "execution_count": 1,
     "metadata": {},
     "output_type": "execute_result"
    }
   ],
   "source": [
    "pwd"
   ]
  },
  {
   "cell_type": "code",
   "execution_count": 2,
   "metadata": {
    "collapsed": false
   },
   "outputs": [
    {
     "name": "stdout",
     "output_type": "stream",
     "text": [
      "/Users/SD/Downloads\n"
     ]
    }
   ],
   "source": [
    "cd Downloads/"
   ]
  },
  {
   "cell_type": "code",
   "execution_count": 4,
   "metadata": {
    "collapsed": false
   },
   "outputs": [
    {
     "name": "stdout",
     "output_type": "stream",
     "text": [
      "/Users/SD/Downloads/yelp_dataset_challenge_academic_dataset\n"
     ]
    }
   ],
   "source": [
    "cd yelp_dataset_challenge_academic_dataset/"
   ]
  },
  {
   "cell_type": "code",
   "execution_count": 9,
   "metadata": {
    "collapsed": false
   },
   "outputs": [],
   "source": [
    "import json\n",
    "import pickle\n",
    "reviews = []\n",
    "i = 0\n",
    "with open('yelp_academic_dataset_review.json') as f:\n",
    "    for line in f:\n",
    "        reviews.append(json.loads(line))\n",
    "        if i == 250000:\n",
    "            with open('subset-reviews-0.pkl','w') as fw:\n",
    "                pickle.dump(reviews,fw)\n",
    "                break\n",
    "        i += 1"
   ]
  },
  {
   "cell_type": "code",
   "execution_count": 10,
   "metadata": {
    "collapsed": false
   },
   "outputs": [
    {
     "name": "stdout",
     "output_type": "stream",
     "text": [
      "total 5160856\r\n",
      "-rw-r-----@ 1 SD  staff      397375 Jan 13 11:45 Dataset_Challenge_Academic_Dataset_Agreement.pdf\r\n",
      "-rw-r-----@ 1 SD  staff      238869 Jan 13 11:45 Yelp_Dataset_Challenge_Terms_round_7.pdf\r\n",
      "-rw-r--r--  1 SD  staff   251301066 Apr 24 14:11 subset-reviews-0.pkl\r\n",
      "-rw-r--r--@ 1 SD  staff    69035997 Jan  7 20:34 yelp_academic_dataset_business.json\r\n",
      "-rw-r--r--@ 1 SD  staff    25516317 Jan  7 20:38 yelp_academic_dataset_checkin.json\r\n",
      "-rw-r--r--@ 1 SD  staff  1940765746 Jan  7 20:37 yelp_academic_dataset_review.json\r\n",
      "-rw-r--r--@ 1 SD  staff   118706610 Jan  7 20:38 yelp_academic_dataset_tip.json\r\n",
      "-rw-r--r--@ 1 SD  staff   236377074 Jan  7 20:38 yelp_academic_dataset_user.json\r\n"
     ]
    }
   ],
   "source": [
    "ls -l"
   ]
  },
  {
   "cell_type": "code",
   "execution_count": 11,
   "metadata": {
    "collapsed": false
   },
   "outputs": [
    {
     "name": "stdout",
     "output_type": "stream",
     "text": [
      "{u'business_id': u'5UmKMjUEUNdYWqANhGckJw',\n",
      " u'date': u'2012-08-01',\n",
      " u'review_id': u'Ya85v4eqdd6k9Od8HbQjyA',\n",
      " u'stars': 4,\n",
      " u'text': u'Mr Hoagie is an institution. Walking in, it does seem like a throwback to 30 years ago, old fashioned menu board, booths out of the 70s, and a large selection of food. Their speciality is the Italian Hoagie, and it is voted the best in the area year after year. I usually order the burger, while the patties are obviously cooked from frozen, all of the other ingredients are very fresh. Overall, its a good alternative to Subway, which is down the road.',\n",
      " u'type': u'review',\n",
      " u'user_id': u'PUFPaY9KxDAcGqfsorJp3Q',\n",
      " u'votes': {u'cool': 0, u'funny': 0, u'useful': 0}}\n"
     ]
    }
   ],
   "source": [
    "from pprint import pprint\n",
    "pprint(reviews[0])"
   ]
  },
  {
   "cell_type": "code",
   "execution_count": 13,
   "metadata": {
    "collapsed": false
   },
   "outputs": [],
   "source": [
    "import gensim"
   ]
  },
  {
   "cell_type": "code",
   "execution_count": null,
   "metadata": {
    "collapsed": true
   },
   "outputs": [],
   "source": [
    "class MySentences(object):\n",
    "    def __init__(self, listname):\n",
    "        self.listname = listname\n",
    "\n",
    "    def __iter__(self):\n",
    "        for review in self.listname:\n",
    "            yield review['text']\n",
    "sentences = MySentences(reviews) # a memory-friendly iterator\n",
    "model = gensim.models.Word2Vec(sentences)"
   ]
  },
  {
   "cell_type": "code",
   "execution_count": null,
   "metadata": {
    "collapsed": true
   },
   "outputs": [],
   "source": []
  }
 ],
 "metadata": {
  "kernelspec": {
   "display_name": "Python 2",
   "language": "python",
   "name": "python2"
  },
  "language_info": {
   "codemirror_mode": {
    "name": "ipython",
    "version": 2
   },
   "file_extension": ".py",
   "mimetype": "text/x-python",
   "name": "python",
   "nbconvert_exporter": "python",
   "pygments_lexer": "ipython2",
   "version": "2.7.11"
  }
 },
 "nbformat": 4,
 "nbformat_minor": 0
}
